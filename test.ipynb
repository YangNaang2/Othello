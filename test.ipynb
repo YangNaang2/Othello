{
 "cells": [
  {
   "cell_type": "code",
   "execution_count": null,
   "metadata": {},
   "outputs": [],
   "source": [
    "import gym_games\n",
    "import gymnasium as gym\n",
    "from DeepQNet import DQN\n",
    "\n",
    "env = gym.make('Othello-v0' , render_mode='human')\n",
    "dqn = DQN()"
   ]
  },
  {
   "cell_type": "code",
   "execution_count": null,
   "metadata": {},
   "outputs": [],
   "source": [
    "obs,reward,done,_,info = env.reset()"
   ]
  },
  {
   "cell_type": "code",
   "execution_count": null,
   "metadata": {},
   "outputs": [],
   "source": [
    "\n",
    "import random\n",
    "env.metadata['autoplay'] = True\n",
    "env.metadata['render_fps'] = 15000000\n",
    "for _ in range(10000):\n",
    "    done = False\n",
    "    obs,reward,done,_,info = env.reset()\n",
    "    while not done:\n",
    "        actions = info['action']\n",
    "        if(actions):\n",
    "            action = random.choice(info['action']) \n",
    "            oldobs = obs\n",
    "            obs,reward,done,_,info = env.step(action)\n",
    "            dqn.InsertBuffer(oldobs,action,reward)\n",
    "        env.render()"
   ]
  },
  {
   "cell_type": "code",
   "execution_count": null,
   "metadata": {},
   "outputs": [],
   "source": [
    "env.metadata['autoplay'] = False\n",
    "while True:\n",
    "    print(info)\n",
    "    obs,reward,done,_,info = env.step(None)"
   ]
  },
  {
   "cell_type": "code",
   "execution_count": null,
   "metadata": {},
   "outputs": [],
   "source": [
    "env.close()"
   ]
  }
 ],
 "metadata": {
  "kernelspec": {
   "display_name": "Pytorch",
   "language": "python",
   "name": "python3"
  },
  "language_info": {
   "codemirror_mode": {
    "name": "ipython",
    "version": 3
   },
   "file_extension": ".py",
   "mimetype": "text/x-python",
   "name": "python",
   "nbconvert_exporter": "python",
   "pygments_lexer": "ipython3",
   "version": "3.12.2"
  }
 },
 "nbformat": 4,
 "nbformat_minor": 2
}
